{
 "cells": [
  {
   "cell_type": "markdown",
   "metadata": {
    "_uuid": "88e20188ddffce29fc4c3af7b6fc09bb48cc1fee"
   },
   "source": [
    "## Whales recognition ResNet baseline"
   ]
  },
  {
   "cell_type": "code",
   "execution_count": null,
   "metadata": {
    "_uuid": "8f2839f25d086af736a60e9eeb907d3b93b6e0e5",
    "_cell_guid": "b1076dfc-b9ad-4769-8c92-a6c4dae69d19",
    "trusted": true
   },
   "outputs": [],
   "source": [
    "from fastai.conv_learner import *\n",
    "from fastai.dataset import *\n",
    "from tqdm import tqdm\n",
    "import pandas as pd\n",
    "import numpy as np\n",
    "import os\n",
    "from sklearn.model_selection import train_test_split, StratifiedShuffleSplit\n",
    "import matplotlib.pyplot as plt\n",
    "import math\n",
    "\n",
    "\n",
    "MODEL_NAME = 'Resnet50'\n",
    "TRAIN = '../input/train/'\n",
    "TEST = '../input/test/'\n",
    "LABELS = '../input/train.csv'\n",
    "SAMPLE_SUB = '../input/sample_submission.csv'\n",
    "\n",
    "# Backbone architecture\n",
    "arch = resnet50\n",
    "# Number of workers for data preprocessing\n",
    "num_workers = 4"
   ]
  },
  {
   "cell_type": "markdown",
   "metadata": {
    "_uuid": "bf2a5c5342e855974efaeb7fe5c2b90f2cf636cf"
   },
   "source": [
    "Next, we prapare out dataset to work with Fastai's pipeline."
   ]
  },
  {
   "cell_type": "code",
   "execution_count": null,
   "metadata": {
    "trusted": true,
    "_uuid": "d9adfc15b56c7f80f291c66dc6d6f38d4d55e6a2"
   },
   "outputs": [],
   "source": [
    "train_df = pd.read_csv(LABELS).set_index('Image')\n",
    "unique_labels = np.unique(train_df.Id.values)\n",
    "\n",
    "labels_dict = dict()\n",
    "labels_list = []\n",
    "for i in range(len(unique_labels)):\n",
    "    labels_dict[unique_labels[i]] = i\n",
    "    labels_list.append(unique_labels[i])\n",
    "print(\"Number of classes: {}\".format(len(unique_labels)))\n",
    "train_df.Id = train_df.Id.apply(lambda x: labels_dict[x])\n",
    "train_labels = np.asarray(train_df.Id.values)\n",
    "test_names = [f for f in os.listdir(TEST)]"
   ]
  },
  {
   "cell_type": "markdown",
   "metadata": {
    "_uuid": "6a910097d19053c50d60ea7ee9496ed2a55746e2"
   },
   "source": [
    "Let's draw a simple histogram to see the sample-per-class distribution."
   ]
  },
  {
   "cell_type": "code",
   "execution_count": null,
   "metadata": {
    "trusted": true,
    "_uuid": "ddef1744553be7723709a1e14253612a18c6f7e2"
   },
   "outputs": [],
   "source": [
    "labels_count = train_df.Id.value_counts()\n",
    "\n",
    "plt.figure(figsize=(18, 4))\n",
    "plt.subplot(121)\n",
    "_, _,_ = plt.hist(labels_count.values)\n",
    "plt.ylabel(\"frequency\")\n",
    "plt.xlabel(\"class size\")\n",
    "\n",
    "plt.title('class distribution; log scale')\n",
    "labels_count.head()\n",
    "\n",
    "print(\"Count for class new_whale: {}\".format(labels_count[0]))\n",
    "plt.subplot(122)\n",
    "_ = plt.plot(labels_count[1:].values)\n",
    "plt.title('w/o class new_whale; log scale')\n",
    "plt.xlabel(\"class\")\n",
    "plt.ylabel(\"log(size)\")\n",
    "plt.gca().set_yscale('log')"
   ]
  },
  {
   "cell_type": "code",
   "execution_count": null,
   "metadata": {
    "trusted": true,
    "_uuid": "a494334eac4b3e32e4756395dd2167ee94368f86"
   },
   "outputs": [],
   "source": [
    "train_df['image_name'] = train_df.index\n",
    "\n",
    "rs = np.random.RandomState(42) # set random seed to be equal to the sense of life\n",
    "perm = rs.permutation(len(train_df))\n",
    "\n",
    "tr_n = train_df['image_name'].values\n",
    "# Yes, we will validate on the subset of training data\n",
    "val_n = train_df['image_name'].values[perm][:1000]\n",
    "\n",
    "print('Train/val:', len(tr_n), len(val_n))\n",
    "print('Train classes', len(train_df.loc[tr_n].Id.unique()))\n",
    "print('Val classes', len(train_df.loc[val_n].Id.unique()))"
   ]
  },
  {
   "cell_type": "code",
   "execution_count": null,
   "metadata": {
    "trusted": true,
    "_uuid": "94af91d70819db979d39a4d77b2e30493498978b"
   },
   "outputs": [],
   "source": [
    "class HWIDataset(FilesDataset):\n",
    "    def __init__(self, fnames, path, transform):\n",
    "        self.train_df = train_df\n",
    "        super().__init__(fnames, transform, path)\n",
    "\n",
    "    def get_x(self, i):\n",
    "        img = open_image(os.path.join(self.path, self.fnames[i]))\n",
    "        img = cv2.resize(img, (self.sz, self.sz))\n",
    "        return img\n",
    "\n",
    "    def get_y(self, i):\n",
    "        if (self.path == TEST): return 0\n",
    "        return self.train_df.loc[self.fnames[i]]['Id']\n",
    "\n",
    "    def get_c(self):\n",
    "        return len(unique_labels)\n"
   ]
  },
  {
   "cell_type": "code",
   "execution_count": null,
   "metadata": {
    "trusted": true,
    "_uuid": "140dfae2b41cbe4f770f8d80fcaba0ebc772e983"
   },
   "outputs": [],
   "source": [
    "class RandomLighting(Transform):\n",
    "    def __init__(self, b, c, tfm_y=TfmType.NO):\n",
    "        super().__init__(tfm_y)\n",
    "        self.b, self.c = b, c\n",
    "\n",
    "    def set_state(self):\n",
    "        self.store.b_rand = rand0(self.b)\n",
    "        self.store.c_rand = rand0(self.c)\n",
    "\n",
    "    def do_transform(self, x, is_y):\n",
    "        if is_y and self.tfm_y != TfmType.PIXEL: return x  # add this line to fix the bug\n",
    "        b = self.store.b_rand\n",
    "        c = self.store.c_rand\n",
    "        c = -1 / (c - 1) if c < 0 else c + 1\n",
    "        x = lighting(x, b, c)\n",
    "        return x\n",
    "    \n",
    "def get_data(sz, batch_size):\n",
    "    \"\"\"\n",
    "    Read data and do augmentations\n",
    "    \"\"\"\n",
    "    aug_tfms = [RandomRotateZoom(deg=20, zoom=2, stretch=1),\n",
    "                RandomLighting(0.2, 0.2, tfm_y=TfmType.NO),\n",
    "                RandomBlur(blur_strengths=3,tfm_y=TfmType.NO),\n",
    "                RandomFlip(tfm_y=TfmType.NO)]\n",
    "    tfms = tfms_from_model(arch, sz, crop_type=CropType.NO, tfm_y=TfmType.NO,\n",
    "                           aug_tfms=aug_tfms)\n",
    "    ds = ImageData.get_ds(HWIDataset, (tr_n[:-(len(tr_n) % batch_size)], TRAIN),\n",
    "                          (val_n, TRAIN), tfms, test=(test_names, TEST))\n",
    "    md = ImageData(\"./\", ds, batch_size, num_workers=num_workers, classes=None)\n",
    "    return md\n"
   ]
  },
  {
   "cell_type": "code",
   "execution_count": null,
   "metadata": {
    "trusted": true,
    "_uuid": "f8258255beb8fb608abb8a292b07c7161580007e"
   },
   "outputs": [],
   "source": [
    "image_size = 224\n",
    "batch_size = 96\n",
    "md = get_data(image_size, batch_size)\n",
    "extra_fc_layers_size = []\n",
    "learn = ConvLearner.pretrained(arch, md, xtra_fc=extra_fc_layers_size) \n",
    "learn.opt_fn = optim.Adam"
   ]
  },
  {
   "cell_type": "code",
   "execution_count": null,
   "metadata": {
    "trusted": true,
    "scrolled": false,
    "_uuid": "ab2d2e0e0a6a15f38a983993486316040e9afb38"
   },
   "outputs": [],
   "source": [
    "print('Number of layer groups:', len(learn.get_layer_groups()), '\\t(first 2 groups is pretrained backbone)')\n",
    "print('This is our extra thin on top of the backbone Resnet50 architecture:')\n",
    "learn.get_layer_groups()[2]"
   ]
  },
  {
   "cell_type": "markdown",
   "metadata": {
    "_uuid": "ddc1f6a3bf90cf20ffdf566fd852a5f15022c9e2"
   },
   "source": [
    "# Nothing fancy, just train in here\nWe start by training only the newly initialized weights (classifier), then unfreeze the model and finetune the pretrained weights"
   ]
  },
  {
   "cell_type": "code",
   "execution_count": null,
   "metadata": {
    "trusted": true,
    "_uuid": "f3118d5e2dbe61c8d51d0e33642ea5bb0b516a54",
    "scrolled": true
   },
   "outputs": [],
   "source": [
    "base_lr = 1e-4 # lr for the backbone\n",
    "fc_lr = 1e-3 # lr for the classifer\n",
    "\n",
    "lrs = [base_lr, base_lr, fc_lr]\n",
    "# Freeze backbone and train the classifier for 2 epochs\n",
    "learn.fit(lrs=lrs, n_cycle=2, cycle_len=None)\n",
    "\n",
    "# Unfreeze backbone and continue training for 9 epochs\n",
    "learn.unfreeze()\n",
    "learn.fit(lrs, n_cycle=9, cycle_len=None)"
   ]
  },
  {
   "cell_type": "markdown",
   "metadata": {
    "_uuid": "eabe555ace20e3b36c6266432108d31de1e58282"
   },
   "source": [
    "## No Fuss Prediction with 8 TTA"
   ]
  },
  {
   "cell_type": "code",
   "execution_count": null,
   "metadata": {
    "trusted": true,
    "_uuid": "6cbfaedbad6bac01b06d87eaf3723dd260b7a51e"
   },
   "outputs": [],
   "source": [
    "preds_t,y_t = learn.TTA(is_test=True,n_aug=8)\n",
    "preds_t = np.stack(preds_t, axis=-1)\n",
    "preds_t = np.exp(preds_t)\n",
    "preds_t = preds_t.mean(axis=-1)"
   ]
  },
  {
   "cell_type": "markdown",
   "metadata": {
    "_uuid": "82b4e79d2a05267790200de4860fd25a0a669f7f"
   },
   "source": [
    "Finally, our submission."
   ]
  },
  {
   "cell_type": "code",
   "execution_count": null,
   "metadata": {
    "trusted": true,
    "_uuid": "f5fbd91e970d375debc3270ebd5b08bb41eeb66e"
   },
   "outputs": [],
   "source": [
    "sample_df = pd.read_csv(SAMPLE_SUB)\n",
    "sample_list = list(sample_df.Image)\n",
    "pred_list = [[labels_list[i] for i in p.argsort()[-5:][::-1]] for p in preds_t]\n",
    "pred_dic = dict((key, value) for (key, value) in zip(learn.data.test_ds.fnames,pred_list))\n",
    "pred_list_cor = [' '.join(pred_dic[id]) for id in sample_list]\n",
    "df = pd.DataFrame({'Image':sample_list,'Id': pred_list_cor})\n",
    "df.to_csv('submission_{}.csv'.format(MODEL_NAME), header=True, index=False)\n",
    "df.head()"
   ]
  },
  {
   "cell_type": "code",
   "execution_count": null,
   "metadata": {
    "trusted": true,
    "_uuid": "4dbe6fe298df2116ca18b41c0a2fbb9fb9a831de"
   },
   "outputs": [],
   "source": [
    "!ls"
   ]
  },
  {
   "cell_type": "code",
   "execution_count": null,
   "metadata": {
    "trusted": true,
    "_uuid": "d00023ae610035cc1fc62dd89c7b42d6a6c97ceb"
   },
   "outputs": [],
   "source": [
    ""
   ]
  },
  {
   "cell_type": "code",
   "execution_count": null,
   "metadata": {
    "trusted": true,
    "_uuid": "efd1375b412ff7d6d689e005eefe88297ea93814"
   },
   "outputs": [],
   "source": [
    ""
   ]
  }
 ],
 "metadata": {
  "kernelspec": {
   "display_name": "Python 3",
   "language": "python",
   "name": "python3"
  },
  "language_info": {
   "name": "python",
   "version": "3.6.6",
   "mimetype": "text/x-python",
   "codemirror_mode": {
    "name": "ipython",
    "version": 3
   },
   "pygments_lexer": "ipython3",
   "nbconvert_exporter": "python",
   "file_extension": ".py"
  }
 },
 "nbformat": 4,
 "nbformat_minor": 1
}
