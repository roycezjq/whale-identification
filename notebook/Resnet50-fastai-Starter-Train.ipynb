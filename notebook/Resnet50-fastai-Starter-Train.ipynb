{
  "cells": [
    {
      "metadata": {
        "_uuid": "8f2839f25d086af736a60e9eeb907d3b93b6e0e5",
        "_cell_guid": "b1076dfc-b9ad-4769-8c92-a6c4dae69d19",
        "trusted": true
      },
      "cell_type": "code",
      "source": "%matplotlib inline\nimport matplotlib.pyplot as plt\nfrom fastai.vision import *\nfrom fastai.metrics import accuracy\nfrom fastai.basic_data import *\nfrom skimage.util import montage\nimport pandas as pd\nfrom torch import optim\nimport re\nimport numpy as np\nimport torch",
      "execution_count": null,
      "outputs": []
    },
    {
      "metadata": {
        "_cell_guid": "79c7e3d0-c299-4dcb-8224-4455121ee9b0",
        "_uuid": "d629ff2d2480ee46fbb7e2d37f6b5fab8052498a",
        "trusted": true
      },
      "cell_type": "code",
      "source": "# https://github.com/benhamner/Metrics/blob/master/Python/ml_metrics/average_precision.py\ndef apk(actual, predicted, k=10):\n    if len(predicted)>k:\n        predicted = predicted[:k]\n\n    score = 0.0\n    num_hits = 0.0\n\n    for i,p in enumerate(predicted):\n        if p in actual and p not in predicted[:i]:\n            num_hits += 1.0\n            score += num_hits / (i+1.0)\n\n    if not actual:\n        return 0.0\n\n    return score / min(len(actual), k)\n\ndef mapk(actual, predicted, k=10):\n    return np.mean([apk(a,p,k) for a,p in zip(actual, predicted)])\n\ndef map5(preds, targs):\n    predicted_idxs = preds.sort(descending=True)[1]\n    top_5 = predicted_idxs[:, :5]\n    res = mapk([[t] for t in targs.cpu().numpy()], top_5.cpu().numpy(), 5)\n    return torch.tensor(res)\n\ndef top_5_preds(preds): return np.argsort(preds.numpy())[:, ::-1][:, :5]\n\ndef top_5_pred_labels(preds, classes):\n    top_5 = top_5_preds(preds)\n    labels = []\n    for i in range(top_5.shape[0]):\n        labels.append(' '.join([classes[idx] for idx in top_5[i]]))\n    return labels\n\ndef create_submission(preds, data, name, classes=None):\n    if not classes: classes = data.classes\n    sub = pd.DataFrame({'Image': [path.name for path in data.test_ds.x.items]})\n    sub['Id'] = top_5_pred_labels(preds, classes)\n    sub.to_csv(f'{name}.csv.gz', index=False, compression='gzip')",
      "execution_count": null,
      "outputs": []
    },
    {
      "metadata": {
        "trusted": true,
        "_uuid": "0a3abf4e21637b1c89ffc3897b3ae8487b691542"
      },
      "cell_type": "code",
      "source": "import fastai\nfrom fastprogress import force_console_behavior\nimport fastprogress\nfastprogress.fastprogress.NO_BAR = True\nmaster_bar, progress_bar = force_console_behavior()\nfastai.basic_train.master_bar, fastai.basic_train.progress_bar = master_bar, progress_bar",
      "execution_count": null,
      "outputs": []
    },
    {
      "metadata": {
        "trusted": true,
        "_uuid": "c98054f28bfa575d7482313451a0379398525a48"
      },
      "cell_type": "code",
      "source": "df = pd.read_csv('../input/humpback-whale-identification/train.csv')\nval_fns = {'69823499d.jpg'}",
      "execution_count": null,
      "outputs": []
    },
    {
      "metadata": {
        "trusted": true,
        "_uuid": "f4f9205b748b18fd287601e2d44d4a0cbd4cab34"
      },
      "cell_type": "code",
      "source": "fn2label = {row[1].Image: row[1].Id for row in df.iterrows()}\npath2fn = lambda path: re.search('\\w*\\.jpg$', path).group(0)",
      "execution_count": null,
      "outputs": []
    },
    {
      "metadata": {
        "trusted": true,
        "_uuid": "18647bfc5143f951f42242bf9096b8e15ee56fdc"
      },
      "cell_type": "code",
      "source": "name = f'res50-full-train'",
      "execution_count": null,
      "outputs": []
    },
    {
      "metadata": {
        "trusted": true,
        "_uuid": "366adc0ce7b2bc513393a42ba98aa11821243ef1"
      },
      "cell_type": "code",
      "source": "SZ = 224\nBS = 64\nNUM_WORKERS = 0\nSEED=0",
      "execution_count": null,
      "outputs": []
    },
    {
      "metadata": {
        "trusted": true,
        "_uuid": "b7266da4c15ce659022e80dc0e2d85714c66b461"
      },
      "cell_type": "code",
      "source": "data = (\n    ImageItemList\n        .from_df(df[df.Id != 'new_whale'], '../input/humpback-whale-identification/train', cols=['Image'])\n        .split_by_valid_func(lambda path: path2fn(path) in val_fns)\n        .label_from_func(lambda path: fn2label[path2fn(path)])\n        .add_test(ImageItemList.from_folder('../input/humpback-whale-identification/test'))\n        .transform(get_transforms(do_flip=False), size=SZ, resize_method=ResizeMethod.SQUISH)\n        .databunch(bs=BS, num_workers=NUM_WORKERS, path='.')\n        .normalize(imagenet_stats)\n)",
      "execution_count": null,
      "outputs": []
    },
    {
      "metadata": {
        "trusted": true,
        "_uuid": "2b035861b019d5823faa1a38d69a3f956d0a9d25",
        "scrolled": true
      },
      "cell_type": "code",
      "source": "%%time\n\nlearn = create_cnn(data, models.resnet50, lin_ftrs=[2048])\nlearn.clip_grad();\n\n# learn.fit_one_cycle(7, 1e-2)\nlearn.save(f'{name}-stage-1')\n\n# learn.unfreeze()\n\nmax_lr = 1e-3\nlrs = [max_lr/100, max_lr/10, max_lr]\n\n# learn.fit_one_cycle(10, lrs)\nlearn.save(f'{name}-stage-2')",
      "execution_count": null,
      "outputs": []
    },
    {
      "metadata": {
        "trusted": true,
        "_uuid": "9e04057709b66db3cc839cbc24c672c5fd277931"
      },
      "cell_type": "code",
      "source": "SZ = 224 * 2\nBS = 64 // 4\nNUM_WORKERS = 0\nSEED=0",
      "execution_count": null,
      "outputs": []
    },
    {
      "metadata": {
        "trusted": true,
        "_uuid": "22a4b052ff6a603744b144499cd03325ae0694ca"
      },
      "cell_type": "code",
      "source": "data = (\n    ImageItemList\n        .from_df(df[df.Id != 'new_whale'], '../input/humpback-whale-identification/train', cols=['Image'])\n        .split_by_valid_func(lambda path: path2fn(path) in val_fns)\n        .label_from_func(lambda path: fn2label[path2fn(path)])\n        .add_test(ImageItemList.from_folder('../input/humpback-whale-identification/test'))\n        .transform(get_transforms(do_flip=False), size=SZ, resize_method=ResizeMethod.SQUISH)\n        .databunch(bs=BS, num_workers=NUM_WORKERS, path='.')\n        .normalize(imagenet_stats)\n)",
      "execution_count": null,
      "outputs": []
    },
    {
      "metadata": {
        "trusted": true,
        "_uuid": "6c63671ddfec1132e9bf59f77e93445a2b65a1d2"
      },
      "cell_type": "code",
      "source": "%%time\nlearn = create_cnn(data, models.resnet50, lin_ftrs=[2048])\nlearn.clip_grad();\n# learn.load(f'{name}-stage-2')\nlearn.freeze_to(-1)\n\n# learn.fit_one_cycle(4, 1e-2 / 4)\n# learn.save(f'{name}-stage-3')\n\nlearn.unfreeze()\n\nmax_lr = 1e-3 / 4\nlrs = [max_lr/100, max_lr/10, max_lr]\n\n# learn.fit_one_cycle(6, lrs)\n# learn.save(f'{name}-stage-4')",
      "execution_count": null,
      "outputs": []
    },
    {
      "metadata": {
        "trusted": true,
        "_uuid": "a62014476e54dda6b2d496e5cb3f3e8476faa9a3"
      },
      "cell_type": "code",
      "source": "!cp ../input/models2/* models/",
      "execution_count": null,
      "outputs": []
    },
    {
      "metadata": {
        "trusted": true,
        "_uuid": "67f4130154f5e7a988c587af89fadf420b304bd3"
      },
      "cell_type": "code",
      "source": "# with oversampling\ndf = pd.read_csv('../input/sample/oversampled_train_and_val.csv')",
      "execution_count": null,
      "outputs": []
    },
    {
      "metadata": {
        "trusted": true,
        "_uuid": "231a25b31ad1a6f13c7c8a4d5f330721e45527a4"
      },
      "cell_type": "code",
      "source": "data = (\n    ImageItemList\n        .from_df(df, '../input/humpback-whale-identification/train', cols=['Image'])\n        .split_by_valid_func(lambda path: path2fn(path) in val_fns)\n        .label_from_func(lambda path: fn2label[path2fn(path)])\n        .add_test(ImageItemList.from_folder('../input/humpback-whale-identification/test'))\n        .transform(get_transforms(do_flip=False), size=SZ, resize_method=ResizeMethod.SQUISH)\n        .databunch(bs=BS, num_workers=NUM_WORKERS, path='.')\n        .normalize(imagenet_stats)\n)",
      "execution_count": null,
      "outputs": []
    },
    {
      "metadata": {
        "trusted": true,
        "_uuid": "6b79001f1f46c3e07e5a7f0e03e85dc18dd49d3d"
      },
      "cell_type": "code",
      "source": "%%time\nlearn = create_cnn(data, models.resnet50, lin_ftrs=[2048])\nlearn.clip_grad();\nlearn.load(f'{name}-stage-4')\nlearn.freeze_to(-1)\n\nlearn.fit_one_cycle(2, 1e-2 / 4)\nlearn.save(f'{name}-stage-5')\n\nlearn.unfreeze()\n\nmax_lr = 1e-3 / 4\nlrs = [max_lr/100, max_lr/10, max_lr]\n\nlearn.fit_one_cycle(4, lrs)\nlearn.save(f'{name}-stage-6')",
      "execution_count": null,
      "outputs": []
    },
    {
      "metadata": {
        "_uuid": "4a5245312bc772cc5e875ab51b6140e84c5ce3f1"
      },
      "cell_type": "markdown",
      "source": "## Predict"
    },
    {
      "metadata": {
        "trusted": true,
        "_uuid": "650fbbccf21fa97c46979091deaf4062627bb187"
      },
      "cell_type": "code",
      "source": "preds, _ = learn.get_preds(DatasetType.Test)",
      "execution_count": null,
      "outputs": []
    },
    {
      "metadata": {
        "trusted": true,
        "_uuid": "63672ec2b6a18bf30c24307f9fda2cbe3add16a4"
      },
      "cell_type": "code",
      "source": "preds = torch.cat((preds, torch.ones_like(preds[:, :1])), 1)",
      "execution_count": null,
      "outputs": []
    },
    {
      "metadata": {
        "trusted": true,
        "_uuid": "164d9ce6873ff697bb5ea273cd649790024a6e94"
      },
      "cell_type": "code",
      "source": "preds[:, 5004] = 0.06",
      "execution_count": null,
      "outputs": []
    },
    {
      "metadata": {
        "trusted": true,
        "_uuid": "70f87904f20253dd488c3beea9b5b4ad9c93efc5"
      },
      "cell_type": "code",
      "source": "classes = learn.data.classes + ['new_whale']",
      "execution_count": null,
      "outputs": []
    },
    {
      "metadata": {
        "trusted": true,
        "_uuid": "3c7d41784678b139d09d97ead5fbbef48788b4bb"
      },
      "cell_type": "code",
      "source": "create_submission(preds, learn.data, name, classes)",
      "execution_count": null,
      "outputs": []
    },
    {
      "metadata": {
        "trusted": true,
        "_uuid": "b7c69cd4e8e0a03441e1d51d011ed3862057e111"
      },
      "cell_type": "code",
      "source": "pd.read_csv(f'{name}.csv.gz').head()",
      "execution_count": null,
      "outputs": []
    },
    {
      "metadata": {
        "trusted": true,
        "_uuid": "7a4352773eaab1995af724eee453433ff6e3d428"
      },
      "cell_type": "code",
      "source": "pd.read_csv(f'{name}.csv.gz').Id.str.split().apply(lambda x: x[0] == 'new_whale').mean()",
      "execution_count": null,
      "outputs": []
    },
    {
      "metadata": {
        "trusted": true,
        "_uuid": "b27bd0595d154f0114c8f3332ff834be93ae7f9d"
      },
      "cell_type": "code",
      "source": "!kaggle competitions submit -c humpback-whale-identification -f subs/{name}.csv.gz -m \"{name}\"",
      "execution_count": null,
      "outputs": []
    },
    {
      "metadata": {
        "trusted": true,
        "_uuid": "97e88060661f9c87c43f8b025198972c1cb5def0"
      },
      "cell_type": "code",
      "source": "!cat res50-full-train.csv.gz",
      "execution_count": null,
      "outputs": []
    },
    {
      "metadata": {
        "trusted": true,
        "_uuid": "050f461858f94ffaf163402db302178d74b4ba66"
      },
      "cell_type": "code",
      "source": "",
      "execution_count": null,
      "outputs": []
    }
  ],
  "metadata": {
    "kernelspec": {
      "display_name": "Python 3",
      "language": "python",
      "name": "python3"
    },
    "language_info": {
      "name": "python",
      "version": "3.6.6",
      "mimetype": "text/x-python",
      "codemirror_mode": {
        "name": "ipython",
        "version": 3
      },
      "pygments_lexer": "ipython3",
      "nbconvert_exporter": "python",
      "file_extension": ".py"
    }
  },
  "nbformat": 4,
  "nbformat_minor": 1
}