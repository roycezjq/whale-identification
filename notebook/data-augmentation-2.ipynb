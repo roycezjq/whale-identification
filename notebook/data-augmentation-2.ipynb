{
  "cells": [
    {
      "metadata": {
        "_cell_guid": "13eb49a0-c864-44c7-9859-084334569171",
        "_uuid": "6127ccdc510c47f34e08cb6101db28c92676edaa",
        "scrolled": true,
        "trusted": true
      },
      "cell_type": "code",
      "source": "import numpy as np\nimport pandas as pd\nimport seaborn as sns\nfrom glob import glob\nfrom PIL import Image\nimport matplotlib.pylab as plt\nfrom sklearn.preprocessing import StandardScaler, OneHotEncoder, LabelEncoder\nfrom sklearn.model_selection import train_test_split\n\nfrom subprocess import check_output\nprint(check_output([\"ls\", \"../input\"]).decode(\"utf8\"))\n\nimport keras\nfrom keras.models import Sequential\nfrom keras.layers import Dense, Dropout, Flatten\nfrom keras.layers import Conv2D, MaxPooling2D\nfrom keras import backend as K\nfrom keras.preprocessing.image import ImageDataGenerator",
      "execution_count": null,
      "outputs": []
    },
    {
      "metadata": {
        "_cell_guid": "450ca3a2-688b-4152-ae85-fc5d0fa51966",
        "_uuid": "d1fda27f55108f0878ea0326d8ace6ab34d70df8"
      },
      "cell_type": "markdown",
      "source": "## Importing the data"
    },
    {
      "metadata": {
        "_cell_guid": "8f335cba-009f-4fa4-ad22-0e82f3be3f9d",
        "_uuid": "c1545ba808aecb1dc9d0cf29ec1757bb69db6e0c",
        "collapsed": true,
        "trusted": true
      },
      "cell_type": "code",
      "source": "train_images = glob(\"../input/train/*jpg\")\ntest_images = glob(\"../input/test/*jpg\")\ndf = pd.read_csv(\"../input/train.csv\")\n\ndf[\"Image\"] = df[\"Image\"].map( lambda x : \"../input/train/\"+x)\nImageToLabelDict = dict( zip( df[\"Image\"], df[\"Id\"]))",
      "execution_count": null,
      "outputs": []
    },
    {
      "metadata": {
        "_cell_guid": "0531b93a-1b11-4d3a-98c2-de54c71b49ac",
        "_uuid": "740a0d2bf2a14375062bc7f32b2f33b58ef76a39",
        "collapsed": true,
        "trusted": true
      },
      "cell_type": "code",
      "source": "SIZE = 64\n#image are imported with a resizing and a black and white conversion\ndef ImportImage( filename):\n    img = Image.open(filename).convert(\"LA\").resize( (SIZE,SIZE))\n    return np.array(img)[:,:,0]\ntrain_img = np.array([ImportImage( img) for img in train_images])\nx = train_img",
      "execution_count": null,
      "outputs": []
    },
    {
      "metadata": {
        "_cell_guid": "b03a594a-2225-473b-bf48-9ddbddea7ff5",
        "_uuid": "2f0d99591675e45923590a8f112e5c0b70b8adab"
      },
      "cell_type": "markdown",
      "source": "### Training sample distribution"
    },
    {
      "metadata": {
        "_cell_guid": "1f639260-dae0-4f12-8ae1-179d0d01b586",
        "_uuid": "5ee80dccc4cb4e45ea49d0ee67142ddc34b82da2",
        "trusted": true
      },
      "cell_type": "code",
      "source": "print( \"%d training images\" %x.shape[0])\n\nprint( \"Nbr of samples/class\\tNbr of classes\")\nfor index, val in df[\"Id\"].value_counts().value_counts().sort_index().iteritems():\n    print( \"%d\\t\\t\\t%d\" %(index,val))",
      "execution_count": null,
      "outputs": []
    },
    {
      "metadata": {
        "_cell_guid": "8e068dba-40f0-4196-9e0e-0c2acdb3f9c0",
        "_uuid": "67d689c08be1229fcfc25d2b7fa349a6cd6b3c02"
      },
      "cell_type": "markdown",
      "source": "We read that the classes are very unbalanced: one class has ~800 samples while ~2000 have only one example in the training set. This calls for a lot of data augmentation. "
    },
    {
      "metadata": {
        "_cell_guid": "833bf9bc-4ed2-45cd-a117-bfac50684161",
        "_uuid": "f810bb2e68111e395c6204d84ccff039a174357f"
      },
      "cell_type": "markdown",
      "source": "#### One hot encoding on the labels\n\nUsing a composition of a LabelEncoder and OneHotEncoder to one hot encode the target tail kinds."
    },
    {
      "metadata": {
        "_cell_guid": "9c7cb30c-b3de-4793-9996-a29d7cacd693",
        "_uuid": "777b2c1178e95a1873783cf4363911c9eb28253f",
        "collapsed": true,
        "trusted": true
      },
      "cell_type": "code",
      "source": "class LabelOneHotEncoder():\n    def __init__(self):\n        self.ohe = OneHotEncoder()\n        self.le = LabelEncoder()\n    def fit_transform(self, x):\n        features = self.le.fit_transform( x)\n        return self.ohe.fit_transform( features.reshape(-1,1))\n    def transform( self, x):\n        return self.ohe.transform( self.la.transform( x.reshape(-1,1)))\n    def inverse_tranform( self, x):\n        return self.le.inverse_transform( self.ohe.inverse_tranform( x))\n    def inverse_labels( self, x):\n        return self.le.inverse_transform( x)\n\ny = list(map(ImageToLabelDict.get, train_images))\nlohe = LabelOneHotEncoder()\ny_cat = lohe.fit_transform(y)",
      "execution_count": null,
      "outputs": []
    },
    {
      "metadata": {
        "collapsed": true,
        "trusted": true,
        "_uuid": "54840d574c67c7ca07ea8485e6bdc7120e8b43a0"
      },
      "cell_type": "code",
      "source": "#constructing class weights\nWeightFunction = lambda x : 1./x**0.75\nClassLabel2Index = lambda x : lohe.le.inverse_tranform( [[x]])\nCountDict = dict( df[\"Id\"].value_counts())\nclass_weight_dic = { lohe.le.transform( [image_name])[0] : WeightFunction(count) for image_name, count in CountDict.items()}\ndel CountDict",
      "execution_count": null,
      "outputs": []
    },
    {
      "metadata": {
        "_cell_guid": "8c39244d-fff0-428a-b9c9-ff7f94c3f688",
        "_uuid": "4584a607845fdac4f34ae7cfa3aa179070875940"
      },
      "cell_type": "markdown",
      "source": "#### Some visualization"
    },
    {
      "metadata": {
        "_cell_guid": "43f64283-3973-43d1-a997-502c6db518dc",
        "_uuid": "c1471d8a15a928ca573b2a17a9d8eae363759232",
        "collapsed": true,
        "trusted": true
      },
      "cell_type": "code",
      "source": "def plotImages( images_arr, n_images=4):\n    fig, axes = plt.subplots(n_images, n_images, figsize=(12,12))\n    axes = axes.flatten()\n    for img, ax in zip( images_arr, axes):\n        if img.ndim != 2:\n            img = img.reshape( (SIZE,SIZE))\n        ax.imshow( img, cmap=\"Greys_r\")\n        ax.set_xticks(())\n        ax.set_yticks(())\n    plt.tight_layout()",
      "execution_count": null,
      "outputs": []
    },
    {
      "metadata": {
        "_cell_guid": "d24bcf35-54db-4b70-9a6e-469bf1913a96",
        "_uuid": "3240b60f7d2ccec84b2d6a192f6aeac4a4c6fa62",
        "trusted": true
      },
      "cell_type": "code",
      "source": "#plotting training images from training set after resizing and BW conversion\nplotImages( x)",
      "execution_count": null,
      "outputs": []
    },
    {
      "metadata": {
        "_cell_guid": "2e9dd0ab-9fd6-4532-9f96-367d3d357d95",
        "_uuid": "3703044f17a17a3c3c149851e1e04be19f732aa5"
      },
      "cell_type": "markdown",
      "source": "### Image augmentation with Keras prebuilt"
    },
    {
      "metadata": {
        "_cell_guid": "5f7c534f-b080-419a-b012-7a0a20f096ec",
        "_uuid": "1af7633cb21e3a90fba2d95c8b4295fdf21dc56d",
        "collapsed": true,
        "trusted": true
      },
      "cell_type": "code",
      "source": "#use of an image generator for preprocessing and data augmentation\nx = x.reshape( (-1,SIZE,SIZE,1))\ninput_shape = x[0].shape\nx_train = x.astype(\"float32\")\ny_train = y_cat\n\nimage_gen = ImageDataGenerator(\n    #featurewise_center=True,\n    #featurewise_std_normalization=True,\n    rescale=1./255,\n    rotation_range=15,\n    width_shift_range=.15,\n    height_shift_range=.15,\n    horizontal_flip=True)\n\n#training the image preprocessing\nimage_gen.fit(x_train, augment=True)\n\n#visualization of some images out of the preprocessing\n#augmented_images, _ = next( image_gen.flow( x_train, y_train.toarray(), batch_size=4*4))\n#plotImages( augmented_images)",
      "execution_count": null,
      "outputs": []
    },
    {
      "metadata": {
        "_cell_guid": "10deeb19-bbb4-4f63-9120-99d58d16d1e0",
        "_uuid": "74c4f4a848a0a2d4b5b2c7803094ed0f38af9a3f"
      },
      "cell_type": "markdown",
      "source": "## Building and training model"
    },
    {
      "metadata": {
        "_cell_guid": "238ba84c-510d-4b59-b03b-924285600662",
        "_uuid": "cfed60e65ab2fbfa484b2494b2f6595e0afcbc05",
        "scrolled": false,
        "trusted": true
      },
      "cell_type": "code",
      "source": "batch_size = 128\nnum_classes = len(y_cat.toarray()[0])\nepochs = 9\n\nprint('x_train shape:', x_train.shape)\nprint(x_train.shape[0], 'train samples')\n\nmodel = Sequential()\nmodel.add(Conv2D(48, kernel_size=(3, 3),\n                 activation='relu',\n                 input_shape=input_shape))\nmodel.add(Conv2D(48, (3, 3), activation='sigmoid'))\nmodel.add(MaxPooling2D(pool_size=(2, 2)))\nmodel.add(Conv2D(48, (5, 5), activation='sigmoid'))\nmodel.add(MaxPooling2D(pool_size=(3, 3)))\nmodel.add(Dropout(0.33))\nmodel.add(Flatten())\nmodel.add(Dense(36, activation='sigmoid'))\nmodel.add(Dropout(0.33))\nmodel.add(Dense(36, activation='sigmoid'))\nmodel.add(Dense(num_classes, activation='softmax'))\n\nmodel.compile(loss=keras.losses.categorical_crossentropy,\n              optimizer=keras.optimizers.Adadelta(),\n              metrics=['accuracy'])\nmodel.summary()\nmodel.fit_generator(image_gen.flow(x_train, y_train.toarray(), batch_size=batch_size),\n          steps_per_epoch=  x_train.shape[0]//batch_size,\n          epochs=epochs,\n          verbose=1,\n          class_weight=class_weight_dic)\n\n#score = model.evaluate(x_train, y_train, verbose=0)\n#print('Training loss: {0:.4f}\\nTraining accuracy:  {1:.4f}'.format(*score))",
      "execution_count": null,
      "outputs": []
    },
    {
      "metadata": {
        "_cell_guid": "00850c0e-faf1-4828-94f3-28d766c8368a",
        "_uuid": "7cdd6d77cf1075c3446f64ed5923e261e2047cc4"
      },
      "cell_type": "markdown",
      "source": "### Predictions on test samples and export for submission"
    },
    {
      "metadata": {
        "_cell_guid": "a1248052-18ff-422c-a0b8-91cc4a4d6af3",
        "_uuid": "590932c0d1f1c1ebb6780835bbfe5cb2e0a32b3c",
        "collapsed": true,
        "trusted": true
      },
      "cell_type": "code",
      "source": "import warnings\nfrom os.path import split\n\nwith open(\"sample_submission.csv\",\"w\") as f:\n    with warnings.catch_warnings():\n        f.write(\"Image,Id\\n\")\n        warnings.filterwarnings(\"ignore\",category=DeprecationWarning)\n        for image in test_images:\n            img = ImportImage( image)\n            x = img.astype( \"float32\")\n            #applying preprocessing to test images\n            x = image_gen.standardize( x.reshape(1,SIZE,SIZE))\n            \n            y = model.predict_proba(x.reshape(1,SIZE,SIZE,1))\n            predicted_args = np.argsort(y)[0][::-1][:5]\n            predicted_tags = lohe.inverse_labels( predicted_args)\n            image = split(image)[-1]\n            predicted_tags = \" \".join( predicted_tags)\n            f.write(\"%s,%s\\n\" %(image, predicted_tags))",
      "execution_count": null,
      "outputs": []
    }
  ],
  "metadata": {
    "kernelspec": {
      "display_name": "Python 3",
      "language": "python",
      "name": "python3"
    },
    "language_info": {
      "name": "python",
      "version": "3.6.6",
      "mimetype": "text/x-python",
      "codemirror_mode": {
        "name": "ipython",
        "version": 3
      },
      "pygments_lexer": "ipython3",
      "nbconvert_exporter": "python",
      "file_extension": ".py"
    }
  },
  "nbformat": 4,
  "nbformat_minor": 1
}